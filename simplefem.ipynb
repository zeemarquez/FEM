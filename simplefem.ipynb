{
 "cells": [
  {
   "cell_type": "code",
   "execution_count": 789,
   "metadata": {},
   "outputs": [],
   "source": [
    "import numpy as np\n",
    "from math import *"
   ]
  },
  {
   "cell_type": "markdown",
   "metadata": {},
   "source": [
    "# Mesh"
   ]
  },
  {
   "cell_type": "code",
   "execution_count": 790,
   "metadata": {},
   "outputs": [],
   "source": [
    "import pygmsh\n",
    "import gmsh\n",
    "\n",
    "gmsh.initialize()\n",
    "\n",
    "rect_width, rect_length  = 3.0, 10.0\n",
    "resolution = 0.1\n",
    "\n",
    "geom = pygmsh.geo.Geometry()\n",
    "\n",
    "\n",
    "circle = geom.add_circle(\n",
    "    [5,1.5,0],\n",
    "    radius=0.5,\n",
    "    mesh_size=resolution*0.5,\n",
    "    make_surface=False\n",
    ")\n",
    "\n",
    "\n",
    "rect = geom.add_polygon(\n",
    "    [\n",
    "        [0.0, 0.0                ,0],\n",
    "        [0.0, rect_width         ,0],\n",
    "        [rect_length, rect_width ,0],\n",
    "        [rect_length, 0.0        ,0],\n",
    "    ],\n",
    "    mesh_size=resolution , holes = [circle]\n",
    "    \n",
    ")\n",
    "\n",
    "mesh = geom.generate_mesh(dim=2)\n",
    "\n",
    "geom.__exit__()"
   ]
  },
  {
   "cell_type": "markdown",
   "metadata": {},
   "source": [
    "# Classes"
   ]
  },
  {
   "cell_type": "markdown",
   "metadata": {},
   "source": [
    "## Node"
   ]
  },
  {
   "cell_type": "code",
   "execution_count": 791,
   "metadata": {},
   "outputs": [],
   "source": [
    "class Node:\n",
    "    \n",
    "    def __init__(self, id, x, y):\n",
    "        self.id = id\n",
    "        self.x, self.y = x, y\n",
    "        self.fx, self.fy = 0.0, 0.0\n",
    "        self.rx, self.ry = 0.0 ,0.0\n",
    "        self.dx, self.dy = None, None\n",
    "        \n",
    "    \n",
    "    @property\n",
    "    def dfix(self):\n",
    "        if self.dx == 0.0 and self.dy == 0.0:\n",
    "            return True\n",
    "        else:\n",
    "            return False\n",
    "        \n",
    "    @property\n",
    "    def externalForce(self):\n",
    "        if self.fx != 0.0 or self.fy != 0.0:\n",
    "            return True\n",
    "        else:\n",
    "            return False\n",
    "        \n",
    "    def __eq__(self, obj):\n",
    "        if (self.x == obj.x) and (self.y == obj.y):\n",
    "            return True\n",
    "        else:\n",
    "            return False       \n",
    "        \n",
    "    def __str__(self):\n",
    "        return str(self.__dict__)"
   ]
  },
  {
   "cell_type": "markdown",
   "metadata": {},
   "source": [
    "## Element"
   ]
  },
  {
   "cell_type": "code",
   "execution_count": 792,
   "metadata": {},
   "outputs": [],
   "source": [
    "class Element:\n",
    "    \n",
    "    maxColorVal = -9.9e19\n",
    "    minColorVal = 9.9e19\n",
    "    colorFunc = lambda x: x\n",
    "    \n",
    "    def __init__(self, id, nodes):\n",
    "        self.id = id\n",
    "        self.nodes = self.orderCounterClock(nodes)\n",
    "        self.stress = None\n",
    "        self.strain = None\n",
    "        self.colorVal = 0\n",
    "        self.getArea()\n",
    "    \n",
    "    @property\n",
    "    def getmaxColorVal(self):\n",
    "        return Element.maxColorVal\n",
    "    \n",
    "    @property\n",
    "    def getminColorVal(self):\n",
    "        return Element.minColorVal\n",
    "    \n",
    "    @property\n",
    "    def getcolorFunc(self):\n",
    "        return Element.colorFunc\n",
    "\n",
    "    def getde(self):\n",
    "        de_ = []\n",
    "        for n in self.nodes:\n",
    "            de_.append(n.dx)\n",
    "            de_.append(n.dy)\n",
    "        self.de = np.array(de_)\n",
    "        return self.de\n",
    "    \n",
    "    def getColor(self):\n",
    "        \n",
    "        try: x_ = float(self.colorVal - Element.minColorVal)/(Element.maxColorVal - Element.minColorVal)\n",
    "        except ZeroDivisionError: x_ = 0.5 # cmax == cmin\n",
    "        \n",
    "        x = Element.colorFunc(x_)\n",
    "        \n",
    "        blue  = int(255* min((max((4*(0.75-x), 0.)), 1.)))\n",
    "        red   = int(255* min((max((4*(x-0.25), 0.)), 1.)))\n",
    "        green = int(255* min((max((4*fabs(x-0.5)-1., 0.)), 1.)))\n",
    "        return (red, green, blue)\n",
    "    \n",
    "    def getArea(self):\n",
    "        x1,y1 = self.nodes[0].x, self.nodes[0].y\n",
    "        x2,y2 = self.nodes[1].x, self.nodes[1].y\n",
    "        x3,y3 = self.nodes[2].x, self.nodes[2].y\n",
    "        result = 0.5*((x2*y3 - x3*y2)-(x1*y3- x3*y1)+(x1*y2-x2*y1))\n",
    "        if result == 0:\n",
    "            result = 1e-20\n",
    "        self.area = result\n",
    "        return result\n",
    "    \n",
    "    def getBe(self):\n",
    "        x1,y1 = self.nodes[0].x, self.nodes[0].y\n",
    "        x2,y2 = self.nodes[1].x, self.nodes[1].y\n",
    "        x3,y3 = self.nodes[2].x, self.nodes[2].y\n",
    "        B = (0.5/self.area) * np.array([\n",
    "            [(y2-y3) ,  0    , (y3-y1),  0   ,   (y1-y2),   0   ],\n",
    "            [   0    , (x3-x2),  0    , (x1-x3),     0   ,(x2-x1)],\n",
    "            [(x3-x2) , (y2-y3), (x1-x3), (y3-y1), (x2-x1) ,(y1-y2)],\n",
    "        ], dtype=np.float64)\n",
    "        self.Be = B\n",
    "        return B\n",
    "        \n",
    "    def getKe(self, D):\n",
    "        Bie = self.getBe()\n",
    "        Ke = self.area* np.matmul(Bie.T, np.matmul(D, Bie))\n",
    "        self.Ke = Ke\n",
    "        return Ke\n",
    "    \n",
    "    def orderCounterClock(self, nodes):\n",
    "        p1,p2,p3 = nodes[0], nodes[1], nodes[2]\n",
    "        val = (p2.y - p1.y) * (p3.x - p2.x) - (p2.x - p1.x) * (p3.y - p2.y)\n",
    "        nodes_ = nodes.copy()\n",
    "        if val > 0:\n",
    "            nodes[1] = nodes_[0]\n",
    "            nodes[0] = nodes_[1]   \n",
    "        \n",
    "        assembly = []\n",
    "        for n in nodes:\n",
    "            assembly.append(int(n.id*2))\n",
    "            assembly.append(int(n.id*2) +1)\n",
    "        self.assembly = assembly\n",
    "        \n",
    "        return nodes\n",
    "    \n",
    "    def __str__(self):\n",
    "        return str(self.id) + ': [ ' + ', '.join([str(node.id) for node in self.nodes]) + ' ]'\n",
    "        "
   ]
  },
  {
   "cell_type": "markdown",
   "metadata": {},
   "source": [
    "# Preprocessing"
   ]
  },
  {
   "cell_type": "markdown",
   "metadata": {},
   "source": [
    "## Extract mesh data"
   ]
  },
  {
   "cell_type": "code",
   "execution_count": 793,
   "metadata": {},
   "outputs": [],
   "source": [
    "maxNode = 0\n",
    "for cell in mesh.cells[1].data:\n",
    "    for node in cell:\n",
    "        if node > maxNode:\n",
    "            maxNode = node\n",
    "\n",
    "meshCells = mesh.cells[1].data - np.full(np.shape(mesh.cells[1].data), 1, dtype=np.uint64)\n",
    "meshPoints = mesh.points[1:]"
   ]
  },
  {
   "cell_type": "code",
   "execution_count": 794,
   "metadata": {},
   "outputs": [],
   "source": [
    "nodes = [Node(i, point[0], point[1]) for i, point in enumerate(meshPoints)]\n",
    "elements = []\n",
    "\n",
    "for i,cell in enumerate(meshCells):\n",
    "    elements.append(\n",
    "        Element(id=i, nodes=[nodes[i] for i in cell])\n",
    "    )"
   ]
  },
  {
   "cell_type": "markdown",
   "metadata": {},
   "source": [
    "## Material properties"
   ]
  },
  {
   "cell_type": "code",
   "execution_count": 795,
   "metadata": {},
   "outputs": [],
   "source": [
    "v = 0.28\n",
    "E = 200.0e9\n",
    "\n",
    "D = (E/(1-v**2)) * np.array([\n",
    "    [1, v, 0],\n",
    "    [v, 1, 0],\n",
    "    [0, 0, (1-v)/2],\n",
    "])"
   ]
  },
  {
   "cell_type": "markdown",
   "metadata": {},
   "source": [
    "## Boundary conditions and forces"
   ]
  },
  {
   "cell_type": "code",
   "execution_count": 796,
   "metadata": {},
   "outputs": [],
   "source": [
    "for i, node in enumerate(nodes):\n",
    "    if node.x == rect_length:           # At right side of the rectangle (x=10)\n",
    "        node.fx = 1.0e3                 # Apply a downwards force of 1kN\n",
    "    elif node.x == 0.0:                 # At left side of the rectangle (x=0)\n",
    "        node.dx, node.dy = 0.0, 0.0     # Fix the displacement in x and y\n",
    "        node.rx, node.ry = None, None   # Set the reaction forces as unknowns"
   ]
  },
  {
   "cell_type": "code",
   "execution_count": 797,
   "metadata": {},
   "outputs": [],
   "source": [
    "import drawMesh\n",
    "\n",
    "render = drawMesh.MeshRender()\n",
    "render.legend = False\n",
    "render.autoScale = True\n",
    "render.colorElements = False\n",
    "render.nodesLabels = True\n",
    "\n",
    "render.drawElements(elements)"
   ]
  },
  {
   "cell_type": "markdown",
   "metadata": {},
   "source": [
    "$\n",
    "\\begin{equation}\n",
    "K^e = A^e (B^e)^T D B^e\n",
    "\\end{equation}\n",
    "$\n",
    "\n",
    "$\n",
    "\\begin{equation}\n",
    "K = \\sum (L^e)^T K^e L^e\n",
    "\\end{equation}\n",
    "$"
   ]
  },
  {
   "cell_type": "markdown",
   "metadata": {},
   "source": [
    "# Stiffness matrix assembly"
   ]
  },
  {
   "cell_type": "code",
   "execution_count": 798,
   "metadata": {},
   "outputs": [],
   "source": [
    "def assemblyK(K, Ke, nodeAssembly):\n",
    "    for i,t in enumerate(nodeAssembly):\n",
    "        for j,s in enumerate(nodeAssembly):\n",
    "            K[t][s] += Ke[i][j]"
   ]
  },
  {
   "cell_type": "code",
   "execution_count": 799,
   "metadata": {},
   "outputs": [],
   "source": [
    "Nnodes = len(nodes)\n",
    "K = np.zeros((Nnodes*2,Nnodes*2))\n",
    "B_list = []\n",
    "\n",
    "for e in elements:\n",
    "    Ke = e.getKe(D)\n",
    "    nodeAssembly = e.assembly\n",
    "    assemblyK(K, Ke, nodeAssembly)"
   ]
  },
  {
   "cell_type": "markdown",
   "metadata": {},
   "source": [
    "$\\begin{equation}\n",
    "Kd = f + r\n",
    "\\end{equation}$"
   ]
  },
  {
   "cell_type": "code",
   "execution_count": 800,
   "metadata": {},
   "outputs": [],
   "source": [
    "f = np.zeros((int(2*Nnodes), 1))\n",
    "d = np.full((int(2*Nnodes), 1), None)\n",
    "r = np.full((int(2*Nnodes), 1), None)\n",
    "\n",
    "rowsrk, rowsdk = [], []\n",
    "\n",
    "for i,node in enumerate(nodes):\n",
    "    ix,iy = int(i*2), int(i*2)+1\n",
    "    \n",
    "    f[ix], f[iy] = node.fx, node.fy\n",
    "    d[ix], d[iy] = node.dx, node.dy\n",
    "    r[ix], r[iy] = node.rx, node.ry\n",
    "    \n",
    "    if node.dx == None:\n",
    "        rowsrk.append(ix)\n",
    "    else:\n",
    "        rowsdk.append(ix)\n",
    "        \n",
    "    if node.dy == None:\n",
    "        rowsrk.append(iy)\n",
    "    else:\n",
    "        rowsdk.append(iy)"
   ]
  },
  {
   "cell_type": "code",
   "execution_count": 801,
   "metadata": {},
   "outputs": [],
   "source": [
    "rowsrk = [i for i in range(len(d)) if d[i] == None]\n",
    "rowsdk = [i for i in range(len(r)) if r[i] == None]"
   ]
  },
  {
   "cell_type": "markdown",
   "metadata": {},
   "source": [
    "# Solver"
   ]
  },
  {
   "cell_type": "code",
   "execution_count": 802,
   "metadata": {},
   "outputs": [],
   "source": [
    "KB = np.zeros((len(rowsrk),len(rowsrk)))\n",
    "KA = np.zeros((len(rowsdk),len(rowsrk)))\n",
    "\n",
    "fk = np.array([r[i] for i in rowsrk]) + np.array([f[i] for i in rowsrk])\n",
    "dk = np.array([d[i] for i in rowsdk]) \n",
    "\n",
    "for i in range(np.shape(KB)[0]):\n",
    "    for j in range(np.shape(KB)[1]):\n",
    "        KB[i][j] = K [rowsrk[i]][rowsrk[j]]\n",
    "\n",
    "for i in range(np.shape(KA)[0]):\n",
    "    for j in range(np.shape(KA)[1]):\n",
    "        KA[i][j] = K [rowsdk[i]][rowsrk[j]]\n"
   ]
  },
  {
   "cell_type": "code",
   "execution_count": 803,
   "metadata": {},
   "outputs": [],
   "source": [
    "du = np.matmul(np.linalg.inv(KB), fk)\n",
    "fu = np.matmul(KA,du)"
   ]
  },
  {
   "cell_type": "markdown",
   "metadata": {},
   "source": [
    "# Postprocessing"
   ]
  },
  {
   "cell_type": "code",
   "execution_count": 804,
   "metadata": {},
   "outputs": [],
   "source": [
    "d_total = d.copy()\n",
    "\n",
    "for i, d_solve in zip(rowsrk, du):\n",
    "    d_total[i] = d_solve"
   ]
  },
  {
   "cell_type": "code",
   "execution_count": 805,
   "metadata": {},
   "outputs": [],
   "source": [
    "for i,n in enumerate(nodes):\n",
    "    ix,iy = int(i*2), int(i*2)+1\n",
    "    \n",
    "    n.dx = d_total[ix][0]\n",
    "    n.dy = d_total[iy][0]"
   ]
  },
  {
   "cell_type": "markdown",
   "metadata": {},
   "source": [
    "## Von-Mises Stress"
   ]
  },
  {
   "cell_type": "code",
   "execution_count": 806,
   "metadata": {},
   "outputs": [],
   "source": [
    "def calculateVonMises(sx, sy, sxy):\n",
    "    return sqrt(sx**2 + sy**2 + 3*(sxy**2) - sx*sy)"
   ]
  },
  {
   "cell_type": "markdown",
   "metadata": {},
   "source": [
    "## Mesh deformation and Coloring"
   ]
  },
  {
   "cell_type": "code",
   "execution_count": 807,
   "metadata": {},
   "outputs": [],
   "source": [
    "def rgb(mag, cmin, cmax):\n",
    "    \n",
    "    try: x = float(mag-cmin)/(cmax-cmin)\n",
    "    except ZeroDivisionError: x = 0.5 \n",
    "    \n",
    "    blue  = int(255* min((max((4*(0.75-x), 0.)), 1.)))\n",
    "    red   = int(255* min((max((4*(x-0.25), 0.)), 1.)))\n",
    "    green = int(255* min((max((4*fabs(x-0.5)-1., 0.)), 1.)))\n",
    "    return (red, green, blue)\n",
    "\n",
    "average = lambda x: (sum(x)/len(x))"
   ]
  },
  {
   "cell_type": "code",
   "execution_count": 808,
   "metadata": {},
   "outputs": [],
   "source": [
    "maxd, mind = max(d_total)[0], min(d_total)[0]\n",
    "\n",
    "Element.colorFunc = lambda x: x #exp(-x)"
   ]
  },
  {
   "cell_type": "code",
   "execution_count": 809,
   "metadata": {},
   "outputs": [],
   "source": [
    "for i,element in enumerate(elements):\n",
    "    \n",
    "    de = element.getde()\n",
    "    strain_e = np.matmul(element.Be,de)\n",
    "    stress_e = np.matmul(D, strain_e)\n",
    "\n",
    "    dx_avg = average([de[0], de[2], de[4]])\n",
    "    dy_avg = average([de[1], de[3], de[5]])\n",
    "    \n",
    "    element.strain = strain_e\n",
    "    element.stress = stress_e\n",
    "    \n",
    "    element.colorVal = calculateVonMises(element.stress[0], element.stress[1], element.stress[2])\n",
    "    \n",
    "    if element.colorVal > Element.maxColorVal:\n",
    "        Element.maxColorVal = element.colorVal\n",
    "    if element.colorVal < Element.minColorVal:\n",
    "        Element.minColorVal = element.colorVal\n",
    "        "
   ]
  },
  {
   "cell_type": "code",
   "execution_count": 811,
   "metadata": {},
   "outputs": [],
   "source": [
    "render = drawMesh.MeshRender()\n",
    "render.legend = True\n",
    "render.autoScale = True\n",
    "render.deform_scale = 1.0e5\n",
    "render.legendDiscretize = 10\n",
    "render.legendTitle = 'von-mises (Pa)'\n",
    "render.drawElements(elements)"
   ]
  }
 ],
 "metadata": {
  "kernelspec": {
   "display_name": "Python 3.8.2 64-bit",
   "language": "python",
   "name": "python3"
  },
  "language_info": {
   "codemirror_mode": {
    "name": "ipython",
    "version": 3
   },
   "file_extension": ".py",
   "mimetype": "text/x-python",
   "name": "python",
   "nbconvert_exporter": "python",
   "pygments_lexer": "ipython3",
   "version": "3.8.2"
  },
  "orig_nbformat": 4,
  "vscode": {
   "interpreter": {
    "hash": "aee8b7b246df8f9039afb4144a1f6fd8d2ca17a180786b69acc140d282b71a49"
   }
  }
 },
 "nbformat": 4,
 "nbformat_minor": 2
}
