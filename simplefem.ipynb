{
 "cells": [
  {
   "cell_type": "code",
   "execution_count": 203,
   "metadata": {},
   "outputs": [],
   "source": [
    "import numpy as np\n",
    "from math import *\n",
    "import matplotlib.pyplot as plt"
   ]
  },
  {
   "cell_type": "code",
   "execution_count": 245,
   "metadata": {},
   "outputs": [
    {
     "name": "stdout",
     "output_type": "stream",
     "text": [
      "id:0 persons:{'id': 0, 'name': 'Alice', 'value': 12}, {'id': 1, 'name': 'Bob', 'value': 23}, {'id': 2, 'name': 'Charles', 'value': 45}\n"
     ]
    }
   ],
   "source": [
    "class Person:\n",
    "    def __init__(self, id, name, value):\n",
    "        self.id = id\n",
    "        self.name = name\n",
    "        self.value = value\n",
    "    \n",
    "    def __str__(self):\n",
    "        return str(self.__dict__) \n",
    "    \n",
    "class Organization:\n",
    "    def __init__(self, id, persons):\n",
    "        self.id = id\n",
    "        self.persons = persons\n",
    "        \n",
    "    def __str__(self):\n",
    "        return 'id:' + str(self.id) + ' persons:' + ', '.join([str(x) for x in self.persons]) \n",
    "        \n",
    "p1 = Person(0,'Alice', 12)\n",
    "p2 = Person(1,'Bob', 23)\n",
    "p3 = Person(2,'Charles', 45)\n",
    "\n",
    "o1 = Organization(0, [p1, p2, p3])\n",
    "\n",
    "persons = [p1, p2, p3]\n",
    "print(o1)"
   ]
  },
  {
   "cell_type": "code",
   "execution_count": 246,
   "metadata": {},
   "outputs": [
    {
     "name": "stdout",
     "output_type": "stream",
     "text": [
      "id:0 persons:{'id': 0, 'name': 'Alice', 'value': 788}, {'id': 1, 'name': 'Bob', 'value': 23}, {'id': 2, 'name': 'Charles', 'value': 45}\n"
     ]
    }
   ],
   "source": [
    "persons[0].value = 788\n",
    "print(o1)"
   ]
  },
  {
   "cell_type": "code",
   "execution_count": 204,
   "metadata": {},
   "outputs": [],
   "source": [
    "import pygmsh\n",
    "import gmsh\n",
    "\n",
    "gmsh.initialize()\n",
    "\n",
    "rect_width, rect_length  = 3.0, 10.0\n",
    "resolution = 0.1\n",
    "\n",
    "geom = pygmsh.geo.Geometry()\n",
    "\n",
    "\n",
    "circle = geom.add_circle(\n",
    "    [5,1.5,0],\n",
    "    radius=0.5,\n",
    "    mesh_size=resolution*0.5,\n",
    "    make_surface=False\n",
    ")\n",
    "\n",
    "\n",
    "rect = geom.add_polygon(\n",
    "    [\n",
    "        [0.0, 0.0                ,0],\n",
    "        [0.0, rect_width         ,0],\n",
    "        [rect_length, rect_width ,0],\n",
    "        [rect_length, 0.0        ,0],\n",
    "    ],\n",
    "    mesh_size=resolution , holes = [circle]\n",
    "    \n",
    ")\n",
    "\n",
    "mesh = geom.generate_mesh(dim=2)\n",
    "\n",
    "mesh.write(\"out.vtk\")\n",
    "\n",
    "geom.__exit__()"
   ]
  },
  {
   "cell_type": "code",
   "execution_count": 205,
   "metadata": {},
   "outputs": [],
   "source": [
    "class Node:\n",
    "    def __init__(self, id, x, y):\n",
    "        self.id = id\n",
    "        self.x, self.y = x, y\n",
    "        self.fx, self.fy = 0,0\n",
    "        self.rx, self.ry = 0,0\n",
    "        self.dx, self.dy = None, None\n",
    "    \n",
    "    @property\n",
    "    def dfix(self):\n",
    "        if self.dx == 0 and self.dy == 0:\n",
    "            return True\n",
    "        else:\n",
    "            return False\n",
    "        \n",
    "    @property\n",
    "    def externalForce(self):\n",
    "        if self.fx != 0 or self.fy != 0:\n",
    "            return True\n",
    "        else:\n",
    "            return False\n",
    "        \n",
    "    def __eq__(self, obj):\n",
    "        if (self.x == obj.x) and (self.y == obj.y):\n",
    "            return True\n",
    "        else:\n",
    "            return False       \n",
    "        \n",
    "    def __str__(self):\n",
    "        return str(self.__dict__)\n",
    "\n",
    "class Element:\n",
    "    \n",
    "    maxColorVal = -9.9e19\n",
    "    minColorVal = 9.9e19\n",
    "    colorFunc = lambda x: x\n",
    "    \n",
    "    def __init__(self, id, nodes):\n",
    "        self.id = id\n",
    "        self.nodes = self.orderCounterClock(nodes)\n",
    "        self.stress = None\n",
    "        self.strain = None\n",
    "        self.colorVal = 0\n",
    "    \n",
    "    @property\n",
    "    def getmaxColorVal(self):\n",
    "        return Element.maxColorVal\n",
    "    \n",
    "    @property\n",
    "    def getminColorVal(self):\n",
    "        return Element.minColorVal\n",
    "    \n",
    "    @property\n",
    "    def getcolorFunc(self):\n",
    "        return Element.colorFunc\n",
    "    \n",
    "    def getColor(self):\n",
    "        \n",
    "        try: x_ = float(self.colorVal - Element.minColorVal)/(Element.maxColorVal - Element.minColorVal)\n",
    "        except ZeroDivisionError: x_ = 0.5 # cmax == cmin\n",
    "        \n",
    "        x = Element.colorFunc(x_)\n",
    "        \n",
    "        blue  = int(255* min((max((4*(0.75-x), 0.)), 1.)))\n",
    "        red   = int(255* min((max((4*(x-0.25), 0.)), 1.)))\n",
    "        green = int(255* min((max((4*fabs(x-0.5)-1., 0.)), 1.)))\n",
    "        return (red, green, blue)\n",
    "    \n",
    "    def orderCounterClock(self, nodes):\n",
    "        p1,p2,p3 = nodes[0], nodes[1], nodes[2]\n",
    "        val = (p2.y - p1.y) * (p3.x - p2.x) - (p2.x - p1.x) * (p3.y - p2.y)\n",
    "        nodes_ = nodes.copy()\n",
    "        if val > 0:\n",
    "            nodes[1] = nodes_[0]\n",
    "            nodes[0] = nodes_[1]   \n",
    "        \n",
    "        assembly = []\n",
    "        for n in nodes:\n",
    "            assembly.append(int(n.id*2))\n",
    "            assembly.append(int(n.id*2) +1)\n",
    "        self.assembly = assembly\n",
    "        \n",
    "        return nodes\n",
    "    \n",
    "    def genGatherMatrix(self, nNodes):\n",
    "        L = np.zeros((6,nNodes*2))\n",
    "        \n",
    "        for i,node in enumerate(self.nodes):\n",
    "            ix, iy = int(i*2), int(i*2 +1)\n",
    "            jx, jy = int(node.id*2), int(node.id*2 +1)\n",
    "            L[ix, jx] = 1\n",
    "            L[iy, jy] = 1\n",
    "            \n",
    "        self.L = L\n",
    "        return L\n",
    "    \n",
    "    def __str__(self):\n",
    "        return str(self.id) + ': [ ' + ', '.join([str(node.id) for node in self.nodes]) + ' ]'\n",
    "        \n",
    "\n",
    "def setNodeAttribute(id, nodes, attribute, val):\n",
    "    for n in nodes:\n",
    "        if n.id == id:\n",
    "            n.__dict__[attribute] = val"
   ]
  },
  {
   "cell_type": "code",
   "execution_count": 206,
   "metadata": {},
   "outputs": [
    {
     "name": "stdout",
     "output_type": "stream",
     "text": [
      "4598\n"
     ]
    }
   ],
   "source": [
    "maxNode = 0\n",
    "for cell in mesh.cells[1].data:\n",
    "    for node in cell:\n",
    "        if node > maxNode:\n",
    "            maxNode = node\n",
    "print(maxNode)\n",
    "\n",
    "meshCells = mesh.cells[1].data - np.full(np.shape(mesh.cells[1].data), 1, dtype=np.uint64)\n",
    "meshPoints = mesh.points[1:]"
   ]
  },
  {
   "cell_type": "code",
   "execution_count": 208,
   "metadata": {},
   "outputs": [],
   "source": [
    "elements = []\n",
    "allNodes = []\n",
    "nE = 0\n",
    "for nodesId in meshCells:\n",
    "    points = [meshPoints[i] for i in nodesId]\n",
    "    newElement = Element(id=nE, nodes=[Node(i, point[0], point[1]) for i, point in zip(nodesId,points)])\n",
    "    elements.append(newElement)\n",
    "    for node in newElement.nodes:\n",
    "        if not node in allNodes:\n",
    "            allNodes.append(node)\n",
    "    nE += 1\n",
    "  \n",
    "allNodes = sorted(allNodes, key= lambda x: x.id)    "
   ]
  },
  {
   "cell_type": "code",
   "execution_count": 209,
   "metadata": {},
   "outputs": [],
   "source": [
    "coord_matrix = []\n",
    "for i,node in enumerate(allNodes):\n",
    "    coord_matrix.append(node.x)\n",
    "    coord_matrix.append(node.y)"
   ]
  },
  {
   "cell_type": "code",
   "execution_count": 210,
   "metadata": {},
   "outputs": [],
   "source": [
    "v = 0.1\n",
    "E = 200.0e9\n",
    "\n",
    "D = (E/(1-v**2)) * np.array([\n",
    "    [1, v, 0],\n",
    "    [v, 1, 0],\n",
    "    [0, 0, (1-v)/2],\n",
    "])"
   ]
  },
  {
   "cell_type": "code",
   "execution_count": 211,
   "metadata": {},
   "outputs": [],
   "source": [
    "Ne = len(elements)\n",
    "Nnodes = len(allNodes)\n",
    "\n",
    "L_gather = [element.genGatherMatrix(Nnodes) for element in elements]\n",
    "\n",
    "coord_matrix = []\n",
    "for i,node in enumerate(allNodes):\n",
    "    coord_matrix.append(node.x)\n",
    "    coord_matrix.append(node.y)\n",
    "\n",
    "f = np.zeros((int(2*Nnodes), 1))\n",
    "d = np.full((int(2*Nnodes), 1), None)\n",
    "r = np.full((int(2*Nnodes), 1), None)\n",
    "\n",
    "for i in range(0,len(coord_matrix) ,2):  \n",
    "    \n",
    "    if coord_matrix[i] == rect_length:\n",
    "        f[i+1] = -1.0e3\n",
    "        setNodeAttribute(id=int(i/2), elements=elements, attribute='externalForce', val=True)\n",
    "        \n",
    "    if coord_matrix[i] == 0:\n",
    "        d[i] = 0\n",
    "        d[i+1] = 0\n",
    "        \n",
    "        setNodeAttribute(id=int(i/2), elements=elements, attribute='dfix', val=True) \n",
    "        \n",
    "    else:\n",
    "        r[i] = 0\n",
    "        r[i+1] = 0\n",
    "    \n",
    "        "
   ]
  },
  {
   "cell_type": "code",
   "execution_count": 212,
   "metadata": {},
   "outputs": [],
   "source": [
    "import drawMesh\n",
    "import importlib\n",
    "\n",
    "importlib.reload(drawMesh)\n",
    "\n",
    "render = drawMesh.MeshRender()\n",
    "render.legend = False\n",
    "render.autoScale = True\n",
    "render.colorElements = False\n",
    "\n",
    "render.drawElements(elements)"
   ]
  },
  {
   "cell_type": "code",
   "execution_count": 213,
   "metadata": {},
   "outputs": [],
   "source": [
    "def Ae(Pe):\n",
    "    x1,y1 = Pe[0], Pe[1]\n",
    "    x2,y2 = Pe[2], Pe[3]\n",
    "    x3,y3 = Pe[4], Pe[5]\n",
    "    result = 0.5*((x2*y3 - x3*y2)-(x1*y3- x3*y1)+(x1*y2-x2*y1))\n",
    "    if result == 0:\n",
    "        result = 1e-20\n",
    "    return result\n",
    "    "
   ]
  },
  {
   "cell_type": "code",
   "execution_count": 214,
   "metadata": {},
   "outputs": [],
   "source": [
    "def Be(ie):\n",
    "    Pe = np.matmul(L_gather[ie],coord_matrix)\n",
    "    x1,y1, x2,y2, x3,y3 = Pe[0], Pe[1], Pe[2], Pe[3], Pe[4], Pe[5]\n",
    "    return (0.5/Ae(Pe)) * np.array([\n",
    "        [(y2-y3) ,  0    , (y3-y1),  0   ,   (y1-y2),   0   ],\n",
    "        [   0    , (x3-x2),  0    , (x1-x3),     0   ,(x2-x1)],\n",
    "        [(x3-x2) , (y2-y3), (x1-x3), (y3-y1), (x2-x1) ,(y1-y2)],\n",
    "    ])\n",
    "    "
   ]
  },
  {
   "cell_type": "markdown",
   "metadata": {},
   "source": [
    "$\n",
    "\\begin{equation}\n",
    "K^e = A^e (B^e)^T D B^e\n",
    "\\end{equation}\n",
    "$\n",
    "\n",
    "$\n",
    "\\begin{equation}\n",
    "K = \\sum (L^e)^T K^e L^e\n",
    "\\end{equation}\n",
    "$"
   ]
  },
  {
   "cell_type": "code",
   "execution_count": 215,
   "metadata": {},
   "outputs": [],
   "source": [
    "import time"
   ]
  },
  {
   "cell_type": "code",
   "execution_count": 216,
   "metadata": {},
   "outputs": [
    {
     "data": {
      "text/latex": [
       "$\\displaystyle \\left[\\begin{matrix}0 & 0 & 0 & 0\\\\0 & k_{22} & k_{21} & k_{20}\\\\0 & k_{12} & k_{11} & k_{10}\\\\0 & k_{02} & k_{01} & k_{00}\\end{matrix}\\right]$"
      ],
      "text/plain": [
       "Matrix([\n",
       "[0,      0,      0,      0],\n",
       "[0, k_{22}, k_{21}, k_{20}],\n",
       "[0, k_{12}, k_{11}, k_{10}],\n",
       "[0, k_{02}, k_{01}, k_{00}]])"
      ]
     },
     "execution_count": 216,
     "metadata": {},
     "output_type": "execute_result"
    }
   ],
   "source": [
    "import sympy as sp\n",
    "\n",
    "k00, k01, k02, k10, k11, k12, k20, k21, k22 = sp.symbols(r'k_{00}, k_{01}, k_{02}, k_{10}, k_{11}, k_{12}, k_{20}, k_{21}, k_{22}')\n",
    "\n",
    "Ke = sp.Matrix([\n",
    "    [k00, k01, k02],\n",
    "    [k10, k11, k12],\n",
    "    [k20, k21, k22]]\n",
    ")\n",
    "\n",
    "'''\n",
    "Ke = sp.MatrixSymbol('k', 3, 3)\n",
    "'''\n",
    "\n",
    "Le = sp.Matrix([\n",
    "    [0, 0, 0, 1],\n",
    "    [0, 0, 1, 0],\n",
    "    [0, 1, 0, 0]]\n",
    ")\n",
    "\n",
    "Le.T * Ke * Le"
   ]
  },
  {
   "cell_type": "code",
   "execution_count": 217,
   "metadata": {},
   "outputs": [],
   "source": [
    "def assemblyK(K, Ke, nodeAssembly):\n",
    "    #K_ = np.zeros((Nnodes*2,Nnodes*2))\n",
    "    for i,t in enumerate(nodeAssembly):\n",
    "        for j,s in enumerate(nodeAssembly):\n",
    "            K[t][s] += Ke[i][j]"
   ]
  },
  {
   "cell_type": "code",
   "execution_count": 218,
   "metadata": {},
   "outputs": [],
   "source": [
    "ie = 0\n",
    "Pe = np.matmul(L_gather[ie],coord_matrix)   \n",
    "Bie = Be(ie)  \n",
    "Ke = Ae(Pe)* np.matmul(Bie.T, np.matmul(D, Bie))\n",
    "e = elements[ie]\n"
   ]
  },
  {
   "cell_type": "code",
   "execution_count": 219,
   "metadata": {},
   "outputs": [
    {
     "name": "stdout",
     "output_type": "stream",
     "text": [
      "100.0 %\r"
     ]
    }
   ],
   "source": [
    "K = np.zeros((Nnodes*2,Nnodes*2))\n",
    "B_list = []\n",
    "\n",
    "#print('Pe', 'Bie', 'Ke', 'K', sep='\\t')\n",
    "for ie in range(Ne):\n",
    "    \n",
    "    e = elements[ie]\n",
    "    \n",
    "    #t0 = time.time()\n",
    "    \n",
    "    Pe = np.matmul(L_gather[ie],coord_matrix)\n",
    "    \n",
    "    #t1 = time.time()\n",
    "    \n",
    "    Bie = Be(ie)\n",
    "    \n",
    "    #t2 = time.time()\n",
    "    \n",
    "    Ke = Ae(Pe)* np.matmul(Bie.T, np.matmul(D, Bie))\n",
    "    \n",
    "    #t3 = time.time()\n",
    "    \n",
    "    nodeAssembly = e.assembly\n",
    "    \n",
    "    assemblyK(K, Ke, nodeAssembly)\n",
    "    \n",
    "    #t4 = time.time()\n",
    "    \n",
    "    B_list.append(Bie)\n",
    "    \n",
    "    #print(round(1.0e4*(t1-t0),1), round(1.0e4*(t2-t1),1), round(1.0e4*(t3-t2),1), round(1.0e4*(t4-t3),1), sep='\\t',  end='\\r')\n",
    "    \n",
    "    \n",
    "    if ie%20 == 0:\n",
    "        print(round(ie/Ne*100,2),'%', end='\\r')\n",
    "\n",
    "print(round(100.00,2),'%', end='\\r')"
   ]
  },
  {
   "cell_type": "markdown",
   "metadata": {},
   "source": [
    "$\\begin{equation}\n",
    "Kd = f + r\n",
    "\\end{equation}$"
   ]
  },
  {
   "cell_type": "code",
   "execution_count": 220,
   "metadata": {},
   "outputs": [],
   "source": [
    "rowsrk = [i for i in range(len(d)) if d[i] == None]\n",
    "rowsdk = [i for i in range(len(r)) if r[i] == None]"
   ]
  },
  {
   "cell_type": "code",
   "execution_count": 221,
   "metadata": {},
   "outputs": [],
   "source": [
    "KB = np.zeros((len(rowsrk),len(rowsrk)))\n",
    "KA = np.zeros((len(rowsdk),len(rowsrk)))\n",
    "\n",
    "fk = np.array([r[i] for i in rowsrk]) + np.array([f[i] for i in rowsrk])\n",
    "dk = np.array([d[i] for i in rowsdk]) \n",
    "\n",
    "K_rows, K_cols = np.shape(K)\n",
    "\n",
    "for i in range(np.shape(KB)[0]):\n",
    "    for j in range(np.shape(KB)[1]):\n",
    "        KB[i][j] = K [rowsrk[i]][rowsrk[j]]\n",
    "\n",
    "for i in range(np.shape(KA)[0]):\n",
    "    for j in range(np.shape(KA)[1]):\n",
    "        KA[i][j] = K [rowsdk[i]][rowsrk[j]]"
   ]
  },
  {
   "cell_type": "code",
   "execution_count": 222,
   "metadata": {},
   "outputs": [],
   "source": [
    "du = np.matmul(np.linalg.inv(KB), fk)\n",
    "fu = np.matmul(KA,du)"
   ]
  },
  {
   "cell_type": "code",
   "execution_count": 223,
   "metadata": {},
   "outputs": [],
   "source": [
    "d_total = d.copy()\n",
    "\n",
    "for i, d_solve in zip(rowsrk, du):\n",
    "    d_total[i] = d_solve\n",
    "\n",
    "dx, dy = [],[]\n",
    "for i in range(0,len(d_total),2):\n",
    "    dx.append(d_total[i])\n",
    "    dy.append(d_total[i + 1])"
   ]
  },
  {
   "cell_type": "code",
   "execution_count": 224,
   "metadata": {},
   "outputs": [],
   "source": [
    "def calculateVonMises(sx, sy, sxy):\n",
    "    return sqrt(sx**2 + sy**2 + 3*(sxy**2) - sx*sy)"
   ]
  },
  {
   "cell_type": "code",
   "execution_count": 227,
   "metadata": {},
   "outputs": [],
   "source": [
    "deformation_scale = 1.0e4\n",
    "\n",
    "maxd, mind = max(d_total)[0], min(d_total)[0]\n",
    "\n",
    "def rgb(mag, cmin, cmax):\n",
    "    \"\"\" Return a tuple of floats between 0 and 1 for R, G, and B. \"\"\"\n",
    "    # Normalize to 0-1\n",
    "    try: x = float(mag-cmin)/(cmax-cmin)\n",
    "    except ZeroDivisionError: x = 0.5 # cmax == cmin\n",
    "    \n",
    "    blue  = int(255* min((max((4*(0.75-x), 0.)), 1.)))\n",
    "    red   = int(255* min((max((4*(x-0.25), 0.)), 1.)))\n",
    "    green = int(255* min((max((4*fabs(x-0.5)-1., 0.)), 1.)))\n",
    "    return (red, green, blue)\n",
    "\n",
    "average = lambda x: (sum(x)/len(x))[0]\n",
    "\n",
    "Element.colorFunc = lambda x: exp(-x)\n",
    "\n",
    "for i,element in enumerate(elements):\n",
    "    Le = element.L\n",
    "    de = np.matmul(Le, d_total)\n",
    "    \n",
    "    strain_e = np.matmul(B_list[i],de)\n",
    "    stress_e = np.matmul(D, strain_e)\n",
    "\n",
    "    dx_avg = average([de[0], de[2], de[4]])\n",
    "    dy_avg = average([de[1], de[3], de[5]])\n",
    "    \n",
    "    element.strain = strain_e\n",
    "    element.stress = stress_e\n",
    "    \n",
    "    element.colorVal = calculateVonMises(element.stress[0][0], element.stress[1][0], element.stress[2][0])\n",
    "    \n",
    "    if element.colorVal > Element.maxColorVal:\n",
    "        Element.maxColorVal = element.colorVal\n",
    "    if element.colorVal < Element.minColorVal:\n",
    "        Element.minColorVal = element.colorVal\n",
    "        \n",
    "    for i,n in enumerate(element.nodes):\n",
    "        ix, iy = int(i*2), int(i*2) + 1\n",
    "        n.x += de[ix]*deformation_scale\n",
    "        n.y += de[iy]*deformation_scale\n",
    "    "
   ]
  },
  {
   "cell_type": "code",
   "execution_count": 228,
   "metadata": {},
   "outputs": [],
   "source": [
    "import drawMesh\n",
    "import importlib\n",
    "\n",
    "importlib.reload(drawMesh)\n",
    "\n",
    "render = drawMesh.MeshRender()\n",
    "render.legend = True\n",
    "render.autoScale = True\n",
    "render.legendDiscretize = 10\n",
    "render.legendTitle = 'von-mises (Pa)'\n",
    "render.drawElements(elements)"
   ]
  }
 ],
 "metadata": {
  "kernelspec": {
   "display_name": "Python 3.8.2 64-bit",
   "language": "python",
   "name": "python3"
  },
  "language_info": {
   "codemirror_mode": {
    "name": "ipython",
    "version": 3
   },
   "file_extension": ".py",
   "mimetype": "text/x-python",
   "name": "python",
   "nbconvert_exporter": "python",
   "pygments_lexer": "ipython3",
   "version": "3.8.2"
  },
  "orig_nbformat": 4,
  "vscode": {
   "interpreter": {
    "hash": "aee8b7b246df8f9039afb4144a1f6fd8d2ca17a180786b69acc140d282b71a49"
   }
  }
 },
 "nbformat": 4,
 "nbformat_minor": 2
}
